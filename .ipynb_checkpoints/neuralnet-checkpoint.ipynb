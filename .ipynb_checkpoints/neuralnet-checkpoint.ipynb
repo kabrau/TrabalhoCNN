{
 "cells": [
  {
   "cell_type": "markdown",
   "metadata": {},
   "source": [
    "# Rede Neural\n",
    "Nesta tarefa você deve implementar uma rede neural com duas camadas totalmente conectadas. O treinamento e a validação deverão ser executados no CIFAR-10. \n"
   ]
  },
  {
   "cell_type": "code",
   "execution_count": 4,
   "metadata": {},
   "outputs": [],
   "source": [
    "# Configuração inicial\n",
    "\n",
    "import numpy as np\n",
    "import matplotlib.pyplot as plt\n",
    "\n",
    "from rncvc.classifiers.neural_net import NeuralNet\n",
    "\n",
    "%matplotlib inline\n",
    "plt.rcParams['figure.figsize'] = (10.0, 8.0) # set default size of plots\n",
    "plt.rcParams['image.interpolation'] = 'nearest'\n",
    "plt.rcParams['image.cmap'] = 'gray'\n",
    "\n",
    "# Permite a recarga automática de arquivos python importados\n",
    "%load_ext autoreload\n",
    "%autoreload 2\n",
    "\n",
    "def rel_error(x, y):\n",
    "  \"\"\" retorna erro relativo \"\"\"\n",
    "  return np.max(np.abs(x - y) / (np.maximum(1e-8, np.abs(x) + np.abs(y))))"
   ]
  },
  {
   "cell_type": "markdown",
   "metadata": {},
   "source": [
    "Implemente a rede neural na classe `NeuralNet` no arquivo `rncvc/classifiers/neural_net.py`. Os parâmetros (pesos) da rede são armazenados na variável (dicionário) `self.params`, onde as chaves são os nomes (string) das camadas e os valores são numpy arrays com os pesos. A seguir, inicializamos dados sintéticos e uma rede simplificada para guiar o procedimento de desenvolvimento. "
   ]
  },
  {
   "cell_type": "code",
   "execution_count": 5,
   "metadata": {},
   "outputs": [],
   "source": [
    "# Criação de um modelo e um conjunto de dados para alguns testes.\n",
    "# Definimos um seed para que seja possivel a conferência dos resultados.\n",
    "\n",
    "input_size = 4\n",
    "hidden_size = 10\n",
    "num_classes = 3\n",
    "num_inputs = 5\n",
    "\n",
    "def init_toy_model():\n",
    "    np.random.seed(0)\n",
    "    return NeuralNet(input_size, hidden_size, num_classes, std=1e-1)\n",
    "\n",
    "def init_toy_data():\n",
    "    np.random.seed(1)\n",
    "    X = 10 * np.random.randn(num_inputs, input_size)\n",
    "    y = np.array([0, 1, 2, 2, 1])\n",
    "    return X, y\n",
    "\n",
    "net = init_toy_model()\n",
    "X, y = init_toy_data()\n",
    "\n"
   ]
  },
  {
   "cell_type": "markdown",
   "metadata": {},
   "source": [
    "# Forward: calcule valores de predição para as classes\n",
    "A função `NeuralNet.loss` utiliza os dados e os parâmetros para calcular as predições para cada classe. Além disso, são calculados: o valor da função de custo e os gradientes dos parâmetros. \n",
    "\n",
    "Implemente a primeira parte, que faz a predição das classes. "
   ]
  },
  {
   "cell_type": "code",
   "execution_count": 6,
   "metadata": {},
   "outputs": [
    {
     "name": "stdout",
     "output_type": "stream",
     "text": [
      "Suas predicoes:\n",
      "[[-0.81233741 -1.27654624 -0.70335995]\n",
      " [-0.17129677 -1.18803311 -0.47310444]\n",
      " [-0.51590475 -1.01354314 -0.8504215 ]\n",
      " [-0.15419291 -0.48629638 -0.52901952]\n",
      " [-0.00618733 -0.12435261 -0.15226949]]\n",
      "\n",
      "Predicoes corretas:\n",
      "[[-0.81233741 -1.27654624 -0.70335995]\n",
      " [-0.17129677 -1.18803311 -0.47310444]\n",
      " [-0.51590475 -1.01354314 -0.8504215 ]\n",
      " [-0.15419291 -0.48629638 -0.52901952]\n",
      " [-0.00618733 -0.12435261 -0.15226949]]\n",
      "\n",
      "Diferenca entre sua implementacao e os valores corretos:\n",
      "3.68027204961e-08\n"
     ]
    }
   ],
   "source": [
    "scores = net.loss(X, reg=0.1)\n",
    "print 'Suas predicoes:'\n",
    "print scores\n",
    "print\n",
    "print 'Predicoes corretas:'\n",
    "correct_scores = np.asarray([\n",
    "  [-0.81233741, -1.27654624, -0.70335995],\n",
    "  [-0.17129677, -1.18803311, -0.47310444],\n",
    "  [-0.51590475, -1.01354314, -0.8504215 ],\n",
    "  [-0.15419291, -0.48629638, -0.52901952],\n",
    "  [-0.00618733, -0.12435261, -0.15226949]])\n",
    "print correct_scores\n",
    "print\n",
    "\n",
    "# A diferenca deve ser pequena. Normalmente < 1e-7\n",
    "print 'Diferenca entre sua implementacao e os valores corretos:'\n",
    "print np.sum(np.abs(scores - correct_scores))\n",
    "\n",
    "\n"
   ]
  },
  {
   "cell_type": "markdown",
   "metadata": {},
   "source": [
    "# Forward: calcule a função de custo\n",
    "\n",
    "Na mesma função, implemente a segunda parte, calculando os valores da função de custo."
   ]
  },
  {
   "cell_type": "code",
   "execution_count": 7,
   "metadata": {},
   "outputs": [
    {
     "name": "stdout",
     "output_type": "stream",
     "text": [
      "Diferença da sua funcao de custo e do custo correto:\n",
      "1.79412040779e-13\n"
     ]
    }
   ],
   "source": [
    "loss, _ = net.loss(X, y, reg=0.1)\n",
    "correct_loss = 1.30378789133\n",
    "\n",
    "# deve ser pequena a diferenca, normalmente < 1e-12\n",
    "print 'Diferença da sua funcao de custo e do custo correto:'\n",
    "print np.sum(np.abs(loss - correct_loss))"
   ]
  },
  {
   "cell_type": "markdown",
   "metadata": {},
   "source": [
    "# Backward\n",
    "\n",
    "Implemente o restante da função. Aqui os gradientes com respeito às variáveis `W1`, `b1`, `W2`, e `b2` devem ser calculados. \n",
    "Com uma implementação correta de todo o processo de backward você deve ser capaz de conferir utilizando o gradiente numérico."
   ]
  },
  {
   "cell_type": "code",
   "execution_count": 8,
   "metadata": {},
   "outputs": [
    {
     "name": "stdout",
     "output_type": "stream",
     "text": [
      "W1 erro relativo max: 3.669858e-09\n",
      "W2 erro relativo max: 3.440708e-09\n",
      "b2 erro relativo max: 3.865028e-11\n",
      "b1 erro relativo max: 2.738422e-09\n"
     ]
    }
   ],
   "source": [
    "from rncvc.gradient_check import eval_numerical_gradient\n",
    "\n",
    "# Use o gradiente numérico para verificar sua implementação da etapa backward.\n",
    "# Se sua implementação estiver correta, a diferença entre os gradientes será \n",
    "# inferior a 1e-8 para cada um das camadas de pesos: W1, W2, b1, b2.\n",
    "\n",
    "loss, grads = net.loss(X, y, reg=0.1)\n",
    "\n",
    "# as diferenças devem ser pequenas (<1e-8)\n",
    "for param_name in grads:\n",
    "    f = lambda W: net.loss(X, y, reg=0.1)[0]\n",
    "    param_grad_num = eval_numerical_gradient(f, net.params[param_name], verbose=False)\n",
    "    print '%s erro relativo max: %e' % (param_name, rel_error(param_grad_num, grads[param_name]))"
   ]
  },
  {
   "cell_type": "markdown",
   "metadata": {},
   "source": [
    "# Treinando a rede (modelo toy)\n",
    "\n",
    "Para treinar, utilize o SGD. Preencha os espaços em branco da função NeuralNet.train. Ainda, você precisa implementar a função NeuralNet.predict utilizada para verificar acurácia durante o treinamento. \n",
    "\n",
    "Com a implementação completa, executando o código abaixo, você deve ser capaz de obter o valor da função de custo próximo a 0.2.\n"
   ]
  },
  {
   "cell_type": "code",
   "execution_count": 9,
   "metadata": {},
   "outputs": [
    {
     "name": "stdout",
     "output_type": "stream",
     "text": [
      "Loss de treinamento:  0.115509651984\n"
     ]
    },
    {
     "data": {
      "image/png": "[encoded data removed]",
      "text/plain": [
       "<matplotlib.figure.Figure at 0x3a80c18>"
      ]
     },
     "metadata": {},
     "output_type": "display_data"
    }
   ],
   "source": [
    "net = init_toy_model()\n",
    "stats = net.train(X, y, X, y,\n",
    "            learning_rate=1e-1, reg=0.1,\n",
    "            num_iters=100, verbose=False)\n",
    "\n",
    "print 'Loss de treinamento: ', stats['loss_history'][-1]\n",
    "\n",
    "# plotagem dos valores de custo durante o treinamento\n",
    "plt.plot(stats['loss_history'])\n",
    "plt.xlabel('iteration')\n",
    "plt.ylabel('training loss')\n",
    "plt.title('Training Loss history')\n",
    "plt.show()"
   ]
  },
  {
   "cell_type": "markdown",
   "metadata": {},
   "source": [
    "# Carregando o CIFAR-10\n",
    "Com sua implementação completa (e correta), podemos carregar os dados do CIFAR-10 e usá-los para treinar um modelo de rede neuralem dados reais.  \n"
   ]
  },
  {
   "cell_type": "code",
   "execution_count": 10,
   "metadata": {},
   "outputs": [
    {
     "name": "stdout",
     "output_type": "stream",
     "text": [
      "(40000L, 32L, 32L, 3L)\n",
      "(10000L, 32L, 32L, 3L)\n",
      "Shape dados treinamento:  (40000L, 3072L)\n",
      "Shape das classes (treinamento):  (40000L,)\n",
      "Shape dados validacao:  (10000L, 3072L)\n",
      "Shape das classes (validacao):  (10000L,)\n"
     ]
    }
   ],
   "source": [
    "from rncvc.data_utils import load_CIFAR10, save_model, load_model\n",
    "\n",
    "def get_CIFAR10_data():\n",
    "    \"\"\"\n",
    "    Carregando o CIFAR-10 e efetuando pré-processamento para preparar os dados\n",
    "    para entrada na Rede Neural.     \n",
    "    \"\"\"\n",
    "    # Carrega o CIFAR-10\n",
    "    cifar10_dir = 'rncvc/datasets/cifar-10-batches-py'    \n",
    "    X_train, y_train, X_valid, y_valid = load_CIFAR10(cifar10_dir)   \n",
    "\n",
    "    # Normalizacao dos dados: subtracao da imagem media\n",
    "    mean_image = np.mean(X_train, axis=0)\n",
    "    X_train -= mean_image\n",
    "    X_valid -= mean_image\n",
    "    \n",
    "    print X_train.shape\n",
    "    print X_valid.shape\n",
    "    \n",
    "    # Imagens para linhas \n",
    "    X_train = X_train.reshape(X_train.shape[0], -1)\n",
    "    X_valid = X_valid.reshape(X_valid.shape[0], -1)    \n",
    "\n",
    "    return X_train, y_train, X_valid, y_valid\n",
    "\n",
    "\n",
    "# Utiliza a funcao acima pra carregar os dados.\n",
    "X_train, y_train, X_valid, y_valid = get_CIFAR10_data()\n",
    "print 'Shape dados treinamento: ', X_train.shape\n",
    "print 'Shape das classes (treinamento): ', y_train.shape\n",
    "print 'Shape dados validacao: ', X_valid.shape\n",
    "print 'Shape das classes (validacao): ', y_valid.shape"
   ]
  },
  {
   "cell_type": "markdown",
   "metadata": {},
   "source": [
    "# Treinando a Rede no CIFAR-10\n",
    "Para treinar a rede use SGD com momentum. Salve o melhor modelo com a função data_utils.save_model()."
   ]
  },
  {
   "cell_type": "code",
   "execution_count": 13,
   "metadata": {},
   "outputs": [
    {
     "name": "stdout",
     "output_type": "stream",
     "text": [
      "iteration 0 / 10000: loss 2.303653\n",
      "iteration 100 / 10000: loss 2.302663\n",
      "iteration 200 / 10000: loss 2.293209\n",
      "iteration 300 / 10000: loss 2.233373\n",
      "iteration 400 / 10000: loss 2.077160\n",
      "iteration 500 / 10000: loss 2.144001\n",
      "iteration 600 / 10000: loss 2.144006\n",
      "iteration 700 / 10000: loss 2.007245\n",
      "iteration 800 / 10000: loss 2.027172\n",
      "iteration 900 / 10000: loss 1.988740\n",
      "iteration 1000 / 10000: loss 1.910138\n",
      "iteration 1100 / 10000: loss 1.990723\n",
      "iteration 1200 / 10000: loss 1.948012\n",
      "iteration 1300 / 10000: loss 1.886752\n",
      "iteration 1400 / 10000: loss 1.849721\n",
      "iteration 1500 / 10000: loss 1.796391\n",
      "iteration 1600 / 10000: loss 1.807220\n",
      "iteration 1700 / 10000: loss 1.952463\n",
      "iteration 1800 / 10000: loss 1.792296\n",
      "iteration 1900 / 10000: loss 1.818571\n",
      "iteration 2000 / 10000: loss 1.875826\n",
      "iteration 2100 / 10000: loss 1.735964\n",
      "iteration 2200 / 10000: loss 1.786504\n",
      "iteration 2300 / 10000: loss 1.789403\n",
      "iteration 2400 / 10000: loss 1.739135\n",
      "iteration 2500 / 10000: loss 1.694978\n",
      "iteration 2600 / 10000: loss 1.712579\n",
      "iteration 2700 / 10000: loss 1.708089\n",
      "iteration 2800 / 10000: loss 1.868751\n",
      "iteration 2900 / 10000: loss 1.870979\n",
      "iteration 3000 / 10000: loss 1.718116\n",
      "iteration 3100 / 10000: loss 1.708808\n",
      "iteration 3200 / 10000: loss 1.738150\n",
      "iteration 3300 / 10000: loss 1.746026\n",
      "iteration 3400 / 10000: loss 1.904360\n",
      "iteration 3500 / 10000: loss 1.764945\n",
      "iteration 3600 / 10000: loss 1.645155\n",
      "iteration 3700 / 10000: loss 1.566544\n",
      "iteration 3800 / 10000: loss 1.629391\n",
      "iteration 3900 / 10000: loss 1.707152\n",
      "iteration 4000 / 10000: loss 1.657938\n",
      "iteration 4100 / 10000: loss 1.665081\n",
      "iteration 4200 / 10000: loss 1.561073\n",
      "iteration 4300 / 10000: loss 1.651623\n",
      "iteration 4400 / 10000: loss 1.665191\n",
      "iteration 4500 / 10000: loss 1.596006\n",
      "iteration 4600 / 10000: loss 1.621504\n",
      "iteration 4700 / 10000: loss 1.648588\n",
      "iteration 4800 / 10000: loss 1.615194\n",
      "iteration 4900 / 10000: loss 1.753261\n",
      "iteration 5000 / 10000: loss 1.660624\n",
      "iteration 5100 / 10000: loss 1.547823\n",
      "iteration 5200 / 10000: loss 1.655417\n",
      "iteration 5300 / 10000: loss 1.571956\n",
      "iteration 5400 / 10000: loss 1.647313\n",
      "iteration 5500 / 10000: loss 1.566144\n",
      "iteration 5600 / 10000: loss 1.564724\n",
      "iteration 5700 / 10000: loss 1.672377\n",
      "iteration 5800 / 10000: loss 1.703301\n",
      "iteration 5900 / 10000: loss 1.628601\n",
      "iteration 6000 / 10000: loss 1.610402\n",
      "iteration 6100 / 10000: loss 1.619481\n",
      "iteration 6200 / 10000: loss 1.543039\n",
      "iteration 6300 / 10000: loss 1.563803\n",
      "iteration 6400 / 10000: loss 1.702535\n",
      "iteration 6500 / 10000: loss 1.697303\n",
      "iteration 6600 / 10000: loss 1.649804\n",
      "iteration 6700 / 10000: loss 1.592511\n",
      "iteration 6800 / 10000: loss 1.714713\n",
      "iteration 6900 / 10000: loss 1.662687\n",
      "iteration 7000 / 10000: loss 1.682227\n",
      "iteration 7100 / 10000: loss 1.548715\n",
      "iteration 7200 / 10000: loss 1.656173\n",
      "iteration 7300 / 10000: loss 1.576823\n",
      "iteration 7400 / 10000: loss 1.567649\n",
      "iteration 7500 / 10000: loss 1.524444\n",
      "iteration 7600 / 10000: loss 1.652988\n",
      "iteration 7700 / 10000: loss 1.676166\n",
      "iteration 7800 / 10000: loss 1.531695\n",
      "iteration 7900 / 10000: loss 1.608446\n",
      "iteration 8000 / 10000: loss 1.652145\n",
      "iteration 8100 / 10000: loss 1.568016\n",
      "iteration 8200 / 10000: loss 1.547221\n",
      "iteration 8300 / 10000: loss 1.583232\n",
      "iteration 8400 / 10000: loss 1.706468\n",
      "iteration 8500 / 10000: loss 1.560599\n",
      "iteration 8600 / 10000: loss 1.678193\n",
      "iteration 8700 / 10000: loss 1.604705\n",
      "iteration 8800 / 10000: loss 1.597598\n",
      "iteration 8900 / 10000: loss 1.523938\n",
      "iteration 9000 / 10000: loss 1.583803\n",
      "iteration 9100 / 10000: loss 1.578504\n",
      "iteration 9200 / 10000: loss 1.570237\n",
      "iteration 9300 / 10000: loss 1.584840\n",
      "iteration 9400 / 10000: loss 1.510835\n",
      "iteration 9500 / 10000: loss 1.672636\n",
      "iteration 9600 / 10000: loss 1.661486\n",
      "iteration 9700 / 10000: loss 1.633222\n",
      "iteration 9800 / 10000: loss 1.632042\n",
      "iteration 9900 / 10000: loss 1.536996\n",
      "Acuracia de validacao:  0.4324\n"
     ]
    },
    {
     "data": {
      "text/plain": [
       "True"
      ]
     },
     "execution_count": 13,
     "metadata": {},
     "output_type": "execute_result"
    }
   ],
   "source": [
    "input_size = 32 * 32 * 3\n",
    "hidden_size = 144\n",
    "num_classes = 10\n",
    "net = NeuralNet(input_size, hidden_size, num_classes)\n",
    "\n",
    "\n",
    "# Treina a rede\n",
    "stats = net.train(X_train, y_train, X_valid, y_valid,\n",
    "            num_iters=10000, batch_size=200,\n",
    "            learning_rate=1e-4, learning_rate_decay=0.95,\n",
    "            reg=0.5, verbose=True)\n",
    "\n",
    "# Efetua predicao no conjunto de validacao\n",
    "val_acc = (net.predict(X_valid) == y_valid).mean()\n",
    "print 'Acuracia de validacao: ', val_acc\n",
    "\n",
    "# Salva o modelo da rede treinada\n",
    "model_path = 'model.pickle'\n",
    "save_model(model_path, net.params)\n",
    "\n"
   ]
  },
  {
   "cell_type": "markdown",
   "metadata": {},
   "source": [
    "# Acompanhando o treinamento\n",
    "\n",
    "Com os hiperparâmetros definidos anteriormente você provavelmente não obterá bons resultados: a acurácia não deve passar de 30%. \n",
    "\n",
    "Uma estratégia para entender o que não está bom durante o treinamento é plotar os valores da função de custo e acurácia durante o treinamento. \n",
    "\n",
    "Outra estratégia é visualizar os pesos aprendidos na primeira camada durante o processo de otimização. Normalmente, redes treinadas em dados visuais apresentam padrões estruturais visíveis na primeira camada.\n"
   ]
  },
  {
   "cell_type": "code",
   "execution_count": null,
   "metadata": {
    "collapsed": true
   },
   "outputs": [],
   "source": [
    "# Plota a função de custo e acurácia\n",
    "plt.subplot(2, 1, 1)\n",
    "plt.plot(stats['loss_history'])\n",
    "plt.title('Loss history')\n",
    "plt.xlabel('Iteration')\n",
    "plt.ylabel('Loss')\n",
    "\n",
    "plt.subplot(2, 1, 2)\n",
    "plt.plot(stats['train_acc_history'], label='train')\n",
    "plt.plot(stats['val_acc_history'], label='val')\n",
    "plt.title('Classification accuracy history')\n",
    "plt.xlabel('Epoch')\n",
    "plt.ylabel('Clasification accuracy')\n",
    "plt.show()"
   ]
  },
  {
   "cell_type": "code",
   "execution_count": null,
   "metadata": {
    "collapsed": true
   },
   "outputs": [],
   "source": [
    "from rncvc.vis_utils import visualize_grid\n",
    "\n",
    "# Visualiza os pesos da rede\n",
    "\n",
    "def show_net_weights(net):\n",
    "    W1 = net.params['W1']\n",
    "    W1 = W1.reshape(32, 32, 3, -1).transpose(3, 0, 1, 2)\n",
    "    plt.imshow(visualize_grid(W1, padding=3).astype('uint8'))\n",
    "    plt.gca().axis('off')\n",
    "    plt.show()\n",
    "\n",
    "show_net_weights(net)"
   ]
  },
  {
   "cell_type": "markdown",
   "metadata": {},
   "source": [
    "# Desafio RNCVC 2017\n",
    "\n",
    "**Dicas**\n",
    "* Tune os hiperparâmetros (taxa de aprendizado, número de neurônios, etc). \n",
    "* Regularize o modelo: teste o uso de Regularização L2 e Dropout. \n",
    "* Use validação cruzada para achar os melhores hiperparâmetros.\n",
    "* Utilize um esquema mais sofisticado de atualização dos pesos (ex: SGD + Momentum, Nesterov, Adadelta, Adam, RMSProp).\n",
    "* Teste funções de ativação (ex: ELU, Leaky ReLU) e Batch Normalization. \n",
    "* Salve o melhor modelo obtido usando data_utils.save_model() e data_utils.load_model() para abrir.\n",
    "* O campeão do ano passado conseguiu 62% de acurácia! \n"
   ]
  },
  {
   "cell_type": "markdown",
   "metadata": {},
   "source": [
    "Para o desafio: é <b>fundamental</b> que o trecho abaixo seja executado sem problemas. \n"
   ]
  },
  {
   "cell_type": "code",
   "execution_count": null,
   "metadata": {
    "collapsed": true
   },
   "outputs": [],
   "source": [
    "# Assuma que o modelo são os pesos serializados em disco usando data_utils.save_model()\n",
    "input_size = 32 * 32 * 3\n",
    "hidden_size = 500\n",
    "num_classes = 10\n",
    "net = NeuralNet(input_size, hidden_size, num_classes)\n",
    "\n",
    "# Treina a rede\n",
    "stats = net.train(X_train, y_train, X_valid, y_valid,\n",
    "            num_iters=1000, batch_size=200,\n",
    "            learning_rate=1e-4, learning_rate_decay=0.95,\n",
    "            reg=0.5, verbose=True)\n",
    "\n",
    "best_model = 'path/to/best/model.pickle'\n",
    "model = load_model(best_model)\n",
    "net.params = model\n",
    "\n",
    "# Retorna um vetor de predição (N x 1), onde N é o número de instâncias\n",
    "# As classes retornadas aqui devem ser inteiros: [0, 1, 2, ..., C]\n",
    "# Assuma que X_teste e uma matriz de instancias (N_test, D) \n",
    "# Voce nao tera o X_teste oficial, use outro conjunto para validar.\n",
    "predicted_classes = net.predict(X_train)"
   ]
  },
  {
   "cell_type": "markdown",
   "metadata": {},
   "source": [
    "Reporte abaixo os valores de acurácia no treino e validação do modelo enviado para o desafio."
   ]
  },
  {
   "cell_type": "code",
   "execution_count": null,
   "metadata": {
    "collapsed": true
   },
   "outputs": [],
   "source": [
    "# Treino: 00.00%\n",
    "# Validacao: 00.00%"
   ]
  },
  {
   "cell_type": "code",
   "execution_count": null,
   "metadata": {
    "collapsed": true
   },
   "outputs": [],
   "source": [
    "scores1 = [[-2.85, 0.86, 0.28]]\n",
    "\n",
    "N1 = 1\n",
    "Y = [1,0]\n",
    "reg = 0.5\n",
    "\n",
    "exp_scores2 = np.exp(scores1)\n",
    "norm =(exp_scores2 / np.sum(exp_scores2, axis=1, keepdims=True)) # [N x K]\n",
    "\n",
    "# compute softmax loss\n",
    "loss = -np.sum(np.log(norm[np.arange(N1), Y]))\n",
    "loss /= N\n",
    "#loss += 0.5 * reg * (np.sum(W1**2) + np.sum(W2**2))\n",
    "\n",
    "print norm, loss"
   ]
  }
 ],
 "metadata": {
  "kernelspec": {
   "display_name": "Python 2",
   "language": "python",
   "name": "python2"
  },
  "language_info": {
   "codemirror_mode": {
    "name": "ipython",
    "version": 2
   },
   "file_extension": ".py",
   "mimetype": "text/x-python",
   "name": "python",
   "nbconvert_exporter": "python",
   "pygments_lexer": "ipython2",
   "version": "2.7.13"
  }
 },
 "nbformat": 4,
 "nbformat_minor": 1
}
