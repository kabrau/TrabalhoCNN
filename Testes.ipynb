{
 "cells": [
  {
   "cell_type": "code",
   "execution_count": 2,
   "metadata": {
    "collapsed": true
   },
   "outputs": [],
   "source": [
    "import numpy as np"
   ]
  },
  {
   "cell_type": "code",
   "execution_count": 162,
   "metadata": {},
   "outputs": [
    {
     "name": "stdout",
     "output_type": "stream",
     "text": [
      "0.3\n",
      "100.0\n",
      "103.333333333\n",
      "[ 1.  1.  1.  1.  1.  1.  1.  1.  1.  1.  1.  1.  1.  1.  1.  1.  1.  1.\n",
      "  1.  1.  1.  1.  1.  1.  1.  1.  1.  1.  1.  1.  1.  1.  1.  1.  1.  1.\n",
      "  1.  1.  1.  1.  1.  1.  1.  1.  1.  1.  1.  1.  1.  1.  1.  1.  1.  1.\n",
      "  1.  1.  1.  1.  1.  1.  1.  1.  1.  1.  1.  1.  1.  1.  1.  1.  1.  1.\n",
      "  1.  1.  1.  1.  1.  1.  1.  1.  1.  1.  1.  1.  1.  1.  1.  1.  1.  1.\n",
      "  1.  1.  1.  1.  1.  1.  1.  1.  1.  1.]\n",
      "[ 0.          0.          3.33333333  3.33333333  0.          3.33333333\n",
      "  0.          0.          3.33333333  3.33333333  3.33333333  0.\n",
      "  3.33333333  0.          0.          0.          0.          0.          0.\n",
      "  0.          3.33333333  3.33333333  0.          0.          3.33333333\n",
      "  0.          0.          0.          3.33333333  3.33333333  0.          0.\n",
      "  0.          0.          3.33333333  0.          0.          0.          0.\n",
      "  0.          0.          0.          0.          0.          0.          0.\n",
      "  0.          0.          0.          0.          0.          0.\n",
      "  3.33333333  3.33333333  0.          0.          0.          3.33333333\n",
      "  3.33333333  0.          0.          3.33333333  3.33333333  0.          0.\n",
      "  3.33333333  0.          0.          3.33333333  3.33333333  0.          0.\n",
      "  3.33333333  0.          0.          0.          3.33333333  0.\n",
      "  3.33333333  0.          0.          0.          0.          3.33333333\n",
      "  0.          3.33333333  0.          0.          0.          0.\n",
      "  3.33333333  0.          3.33333333  0.          0.          0.\n",
      "  3.33333333  0.          0.          3.33333333]\n",
      "[ 0.          0.          3.33333333  3.33333333  0.          3.33333333\n",
      "  0.          0.          3.33333333  3.33333333  3.33333333  0.\n",
      "  3.33333333  0.          0.          0.          0.          0.          0.\n",
      "  0.          3.33333333  3.33333333  0.          0.          3.33333333\n",
      "  0.          0.          0.          3.33333333  3.33333333  0.          0.\n",
      "  0.          0.          3.33333333  0.          0.          0.          0.\n",
      "  0.          0.          0.          0.          0.          0.          0.\n",
      "  0.          0.          0.          0.          0.          0.\n",
      "  3.33333333  3.33333333  0.          0.          0.          3.33333333\n",
      "  3.33333333  0.          0.          3.33333333  3.33333333  0.          0.\n",
      "  3.33333333  0.          0.          3.33333333  3.33333333  0.          0.\n",
      "  3.33333333  0.          0.          0.          3.33333333  0.\n",
      "  3.33333333  0.          0.          0.          0.          3.33333333\n",
      "  0.          3.33333333  0.          0.          0.          0.\n",
      "  3.33333333  0.          3.33333333  0.          0.          0.\n",
      "  3.33333333  0.          0.          3.33333333]\n"
     ]
    }
   ],
   "source": [
    "hidden_layer = np.ones(100)\n",
    "\n",
    "dropout = 0.30\n",
    "print dropout\n",
    "\n",
    "mask = ( np.random.random_sample(hidden_layer.shape) < dropout) / dropout\n",
    "D1 = (hidden_layer * mask) \n",
    "\n",
    "\n",
    "print np.sum(hidden_layer)\n",
    "print np.sum(D1)\n",
    "\n",
    "print hidden_layer \n",
    "print mask\n",
    "print D1 "
   ]
  },
  {
   "cell_type": "code",
   "execution_count": null,
   "metadata": {
    "collapsed": true
   },
   "outputs": [],
   "source": []
  },
  {
   "cell_type": "code",
   "execution_count": null,
   "metadata": {
    "collapsed": true
   },
   "outputs": [],
   "source": []
  },
  {
   "cell_type": "code",
   "execution_count": null,
   "metadata": {
    "collapsed": true
   },
   "outputs": [],
   "source": []
  }
 ],
 "metadata": {
  "kernelspec": {
   "display_name": "Python 2",
   "language": "python",
   "name": "python2"
  },
  "language_info": {
   "codemirror_mode": {
    "name": "ipython",
    "version": 2
   },
   "file_extension": ".py",
   "mimetype": "text/x-python",
   "name": "python",
   "nbconvert_exporter": "python",
   "pygments_lexer": "ipython2",
   "version": "2.7.13"
  }
 },
 "nbformat": 4,
 "nbformat_minor": 2
}
