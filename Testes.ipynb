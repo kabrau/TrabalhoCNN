{
 "cells": [
  {
   "cell_type": "code",
   "execution_count": 1,
   "metadata": {},
   "outputs": [],
   "source": [
    "import numpy as np\n",
    "import matplotlib.pyplot as plt\n",
    "from rncvc.classifiers.neural_net import NeuralNet\n",
    "from rncvc.data_utils import load_CIFAR10, save_model, load_model\n",
    "\n",
    "# Permite a recarga automática de arquivos python importados\n",
    "%load_ext autoreload\n",
    "%autoreload 2\n",
    "\n",
    "plt.rcParams['figure.figsize'] = (10.0, 8.0) # set default size of plots\n",
    "plt.rcParams['image.interpolation'] = 'nearest'\n",
    "plt.rcParams['image.cmap'] = 'gray'\n",
    "\n",
    "def rel_error(x, y):\n",
    "  \"\"\" retorna erro relativo \"\"\"\n",
    "  return np.max(np.abs(x - y) / (np.maximum(1e-8, np.abs(x) + np.abs(y))))\n",
    "\n",
    "def get_CIFAR10_data():\n",
    "    \"\"\"\n",
    "    Carregando o CIFAR-10 e efetuando pre-processamento para preparar os dados\n",
    "    para entrada na Rede Neural.     \n",
    "    \"\"\"\n",
    "    # Carrega o CIFAR-10\n",
    "    cifar10_dir = 'rncvc/datasets/cifar-10-batches-py'    \n",
    "    X_train, y_train, X_valid, y_valid = load_CIFAR10(cifar10_dir)   \n",
    "\n",
    "    # Normalizacao dos dados: subtracao da imagem media\n",
    "    mean_image = np.mean(X_train, axis=0)\n",
    "    X_train -= mean_image\n",
    "    X_valid -= mean_image\n",
    "    \n",
    "    # Imagens para linhas \n",
    "    X_train = X_train.reshape(X_train.shape[0], -1)\n",
    "    X_valid = X_valid.reshape(X_valid.shape[0], -1)    \n",
    "\n",
    "    return X_train, y_train, X_valid, y_valid\n",
    "\n",
    "\n",
    "# Utiliza a funcao acima pra carregar os dados.\n",
    "X_train, y_train, X_valid, y_valid = get_CIFAR10_data()\n",
    "input_size = 32 * 32 * 3\n",
    "num_classes = 10\n"
   ]
  },
  {
   "cell_type": "code",
   "execution_count": 13,
   "metadata": {},
   "outputs": [
    {
     "name": "stdout",
     "output_type": "stream",
     "text": [
      "Epoch 0 -> loss 1.794972 acc 0.395000 val_loss 1.876321 val_acc 0.329000  LossVal LossTrain AccValid\n",
      "Epoch 1 -> loss 1.886575 acc 0.405000 val_loss 1.778529 val_acc 0.379500  LossVal AccValid\n",
      "Epoch 2 -> loss 1.786336 acc 0.490000 val_loss 1.731964 val_acc 0.398600  LossVal LossTrain AccValid\n",
      "Epoch 3 -> loss 1.814296 acc 0.460000 val_loss 1.710812 val_acc 0.413800  LossVal AccValid\n",
      "Epoch 4 -> loss 1.806926 acc 0.445000 val_loss 1.694658 val_acc 0.426400  LossVal AccValid\n",
      "Epoch 5 -> loss 1.702100 acc 0.525000 val_loss 1.680898 val_acc 0.427300  LossVal LossTrain AccValid\n",
      "Epoch 6 -> loss 1.738211 acc 0.490000 val_loss 1.671673 val_acc 0.436100  LossVal AccValid\n",
      "Epoch 7 -> loss 1.666015 acc 0.495000 val_loss 1.666633 val_acc 0.436700  LossVal LossTrain AccValid\n",
      "Epoch 8 -> loss 1.769148 acc 0.455000 val_loss 1.658848 val_acc 0.431800  LossVal\n",
      "Epoch 9 -> loss 1.711900 acc 0.515000 val_loss 1.660696 val_acc 0.439600  AccValid\n",
      "Epoch 10 -> loss 1.563257 acc 0.585000 val_loss 1.657391 val_acc 0.434500  LossVal LossTrain\n",
      "Epoch 11 -> loss 1.819648 acc 0.530000 val_loss 1.658447 val_acc 0.441000  AccValid\n",
      "Epoch 12 -> loss 1.715112 acc 0.530000 val_loss 1.649819 val_acc 0.446000  LossVal AccValid\n",
      "Epoch 13 -> loss 1.809136 acc 0.495000 val_loss 1.653067 val_acc 0.443900 \n",
      "Epoch 14 -> loss 1.695580 acc 0.555000 val_loss 1.643896 val_acc 0.443900  LossVal\n",
      "Epoch 15 -> loss 1.713363 acc 0.515000 val_loss 1.641632 val_acc 0.448200  LossVal AccValid\n",
      "Epoch 16 -> loss 1.696740 acc 0.555000 val_loss 1.636600 val_acc 0.451600  LossVal AccValid\n",
      "Epoch 17 -> loss 1.704511 acc 0.520000 val_loss 1.639502 val_acc 0.447400 \n",
      "Epoch 18 -> loss 1.766497 acc 0.485000 val_loss 1.636869 val_acc 0.452100  AccValid\n",
      "Epoch 19 -> loss 1.675021 acc 0.555000 val_loss 1.638028 val_acc 0.453000  AccValid\n",
      "Epoch 20 -> loss 1.775649 acc 0.450000 val_loss 1.631105 val_acc 0.457700  LossVal AccValid\n",
      "Epoch 21 -> loss 1.650191 acc 0.520000 val_loss 1.638110 val_acc 0.448600 \n",
      "Epoch 22 -> loss 1.762066 acc 0.505000 val_loss 1.635839 val_acc 0.452400 \n",
      "Epoch 23 -> loss 1.754052 acc 0.470000 val_loss 1.629650 val_acc 0.452000  LossVal\n",
      "Epoch 24 -> loss 1.686220 acc 0.565000 val_loss 1.626175 val_acc 0.457600  LossVal\n",
      "Epoch 25 -> loss 1.652889 acc 0.535000 val_loss 1.622734 val_acc 0.452000  LossVal\n",
      "Epoch 26 -> loss 1.747267 acc 0.510000 val_loss 1.625141 val_acc 0.459200  AccValid\n",
      "Epoch 27 -> loss 1.816071 acc 0.475000 val_loss 1.629424 val_acc 0.457100 \n",
      "Epoch 28 -> loss 1.694566 acc 0.530000 val_loss 1.625625 val_acc 0.458500 \n",
      "Epoch 29 -> loss 1.745902 acc 0.500000 val_loss 1.626100 val_acc 0.464200  AccValid\n",
      "Epoch 30 -> loss 1.804543 acc 0.465000 val_loss 1.629745 val_acc 0.452700 \n",
      "Epoch 31 -> loss 1.611868 acc 0.540000 val_loss 1.623598 val_acc 0.456900 \n",
      "Epoch 32 -> loss 1.799477 acc 0.460000 val_loss 1.622316 val_acc 0.462600  LossVal\n",
      "Epoch 33 -> loss 1.787967 acc 0.475000 val_loss 1.628945 val_acc 0.457400 \n",
      "Epoch 34 -> loss 1.853615 acc 0.450000 val_loss 1.622665 val_acc 0.457500 \n",
      "Epoch 35 -> loss 1.806593 acc 0.485000 val_loss 1.624230 val_acc 0.460000 \n",
      "Epoch 36 -> loss 1.587586 acc 0.600000 val_loss 1.616976 val_acc 0.463100  LossVal\n",
      "Epoch 37 -> loss 1.766393 acc 0.520000 val_loss 1.616345 val_acc 0.462500  LossVal\n",
      "Epoch 38 -> loss 1.757308 acc 0.490000 val_loss 1.616946 val_acc 0.463400 \n",
      "Epoch 39 -> loss 1.786045 acc 0.500000 val_loss 1.617780 val_acc 0.461000 \n",
      "Epoch 40 -> loss 1.748688 acc 0.450000 val_loss 1.614632 val_acc 0.464900  LossVal AccValid\n",
      "Epoch 41 -> loss 1.592997 acc 0.565000 val_loss 1.615893 val_acc 0.465500  AccValid\n",
      "Epoch 42 -> loss 1.666930 acc 0.510000 val_loss 1.615377 val_acc 0.465300 \n",
      "Epoch 43 -> loss 1.713056 acc 0.520000 val_loss 1.616538 val_acc 0.464300 \n",
      "Epoch 44 -> loss 1.706053 acc 0.470000 val_loss 1.614517 val_acc 0.465900  LossVal AccValid\n",
      "Epoch 45 -> loss 1.720628 acc 0.475000 val_loss 1.612489 val_acc 0.467600  LossVal AccValid\n",
      "Epoch 46 -> loss 1.711973 acc 0.515000 val_loss 1.612214 val_acc 0.466100  LossVal\n",
      "Epoch 47 -> loss 1.529951 acc 0.595000 val_loss 1.610301 val_acc 0.464900  LossVal LossTrain\n",
      "Epoch 48 -> loss 1.671578 acc 0.550000 val_loss 1.614360 val_acc 0.465500 \n",
      "Epoch 49 -> loss 1.594619 acc 0.540000 val_loss 1.609683 val_acc 0.471600  LossVal AccValid\n",
      "Epoch 50 -> loss 1.683424 acc 0.495000 val_loss 1.616030 val_acc 0.464300 \n",
      "Epoch 51 -> loss 1.656555 acc 0.565000 val_loss 1.609352 val_acc 0.468800  LossVal\n",
      "Epoch 52 -> loss 1.770862 acc 0.490000 val_loss 1.611756 val_acc 0.467500 \n",
      "Epoch 53 -> loss 1.667371 acc 0.530000 val_loss 1.613849 val_acc 0.466600 \n",
      "Epoch 54 -> loss 1.754434 acc 0.505000 val_loss 1.608345 val_acc 0.469000  LossVal\n",
      "Epoch 55 -> loss 1.682404 acc 0.540000 val_loss 1.612985 val_acc 0.465200 \n",
      "Epoch 56 -> loss 1.647309 acc 0.510000 val_loss 1.610660 val_acc 0.464300 \n",
      "Epoch 57 -> loss 1.771607 acc 0.485000 val_loss 1.608443 val_acc 0.471500 \n",
      "Epoch 58 -> loss 1.716889 acc 0.545000 val_loss 1.611107 val_acc 0.467100 \n",
      "Epoch 59 -> loss 1.539478 acc 0.575000 val_loss 1.610801 val_acc 0.464900 \n",
      "Epoch 60 -> loss 1.841847 acc 0.465000 val_loss 1.605858 val_acc 0.474400  LossVal AccValid\n",
      "Epoch 61 -> loss 1.770178 acc 0.480000 val_loss 1.606296 val_acc 0.474300 \n",
      "Epoch 62 -> loss 1.625570 acc 0.570000 val_loss 1.608877 val_acc 0.468600 \n",
      "Epoch 63 -> loss 1.773972 acc 0.435000 val_loss 1.603437 val_acc 0.473800  LossVal\n",
      "Epoch 64 -> loss 1.671132 acc 0.540000 val_loss 1.608397 val_acc 0.475200  AccValid\n",
      "Epoch 65 -> loss 1.740256 acc 0.510000 val_loss 1.603240 val_acc 0.475500  LossVal AccValid\n",
      "Epoch 66 -> loss 1.629554 acc 0.540000 val_loss 1.605354 val_acc 0.471700 \n",
      "Epoch 67 -> loss 1.669883 acc 0.510000 val_loss 1.606320 val_acc 0.472400 \n",
      "Epoch 68 -> loss 1.682223 acc 0.525000 val_loss 1.606991 val_acc 0.469900 \n",
      "Epoch 69 -> loss 1.589160 acc 0.565000 val_loss 1.605847 val_acc 0.472600 \n",
      "Epoch 70 -> loss 1.698311 acc 0.510000 val_loss 1.607748 val_acc 0.472500 \n",
      "Epoch 71 -> loss 1.673969 acc 0.475000 val_loss 1.604993 val_acc 0.471600 \n",
      "Epoch 72 -> loss 1.716876 acc 0.535000 val_loss 1.607444 val_acc 0.472700 \n",
      "Epoch 73 -> loss 1.573193 acc 0.540000 val_loss 1.604808 val_acc 0.473200 \n",
      "Epoch 74 -> loss 1.685624 acc 0.480000 val_loss 1.604817 val_acc 0.473300 \n",
      "Epoch 75 -> loss 1.603503 acc 0.570000 val_loss 1.606194 val_acc 0.473300 \n"
     ]
    }
   ],
   "source": [
    "earlyStopping = 10\n",
    "\n",
    "epochs = 200\n",
    "batch_size = 200\n",
    "hidden_size = 50\n",
    "learning_rate=1e-3\n",
    "learning_rate_decay=0.95\n",
    "reg = 0.5\n",
    "\n",
    "net = NeuralNet(input_size, hidden_size, num_classes)\n",
    "\n",
    "stats = net.trainMarcelo(X_train, y_train, X_valid, y_valid,\n",
    "                                    epochs=epochs,\n",
    "                                    batch_size=batch_size,\n",
    "                                    learning_rate=learning_rate, \n",
    "                                    learning_rate_decay=learning_rate_decay,\n",
    "                                    reg=reg, \n",
    "                                    verbose=True, \n",
    "                                    earlyStopping=earlyStopping,\n",
    "                                    dropout=0.5)"
   ]
  },
  {
   "cell_type": "code",
   "execution_count": null,
   "metadata": {
    "collapsed": true
   },
   "outputs": [],
   "source": []
  },
  {
   "cell_type": "code",
   "execution_count": null,
   "metadata": {},
   "outputs": [],
   "source": [
    "\n",
    "\n"
   ]
  },
  {
   "cell_type": "code",
   "execution_count": null,
   "metadata": {},
   "outputs": [],
   "source": []
  },
  {
   "cell_type": "code",
   "execution_count": null,
   "metadata": {
    "collapsed": true
   },
   "outputs": [],
   "source": []
  },
  {
   "cell_type": "code",
   "execution_count": null,
   "metadata": {
    "collapsed": true
   },
   "outputs": [],
   "source": []
  },
  {
   "cell_type": "code",
   "execution_count": null,
   "metadata": {
    "collapsed": true
   },
   "outputs": [],
   "source": []
  },
  {
   "cell_type": "code",
   "execution_count": null,
   "metadata": {
    "collapsed": true
   },
   "outputs": [],
   "source": []
  }
 ],
 "metadata": {
  "kernelspec": {
   "display_name": "Python 2",
   "language": "python",
   "name": "python2"
  },
  "language_info": {
   "codemirror_mode": {
    "name": "ipython",
    "version": 2
   },
   "file_extension": ".py",
   "mimetype": "text/x-python",
   "name": "python",
   "nbconvert_exporter": "python",
   "pygments_lexer": "ipython2",
   "version": "2.7.13"
  }
 },
 "nbformat": 4,
 "nbformat_minor": 2
}
