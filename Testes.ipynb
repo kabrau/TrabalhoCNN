{
 "cells": [
  {
   "cell_type": "code",
   "execution_count": 39,
   "metadata": {
    "collapsed": true
   },
   "outputs": [],
   "source": [
    "import numpy as np\n",
    "import matplotlib.pyplot as plt\n",
    "from rncvc.classifiers.neural_net import NeuralNet\n",
    "from rncvc.data_utils import load_CIFAR10, save_model, load_model\n",
    "\n",
    "plt.rcParams['figure.figsize'] = (10.0, 8.0) # set default size of plots\n",
    "plt.rcParams['image.interpolation'] = 'nearest'\n",
    "plt.rcParams['image.cmap'] = 'gray'\n",
    "\n",
    "def rel_error(x, y):\n",
    "  \"\"\" retorna erro relativo \"\"\"\n",
    "  return np.max(np.abs(x - y) / (np.maximum(1e-8, np.abs(x) + np.abs(y))))\n",
    "\n",
    "def get_CIFAR10_data():\n",
    "    \"\"\"\n",
    "    Carregando o CIFAR-10 e efetuando pre-processamento para preparar os dados\n",
    "    para entrada na Rede Neural.     \n",
    "    \"\"\"\n",
    "    # Carrega o CIFAR-10\n",
    "    cifar10_dir = 'rncvc/datasets/cifar-10-batches-py'    \n",
    "    X_train, y_train, X_valid, y_valid = load_CIFAR10(cifar10_dir)   \n",
    "\n",
    "    # Normalizacao dos dados: subtracao da imagem media\n",
    "    mean_image = np.mean(X_train, axis=0)\n",
    "    X_train -= mean_image\n",
    "    X_valid -= mean_image\n",
    "    \n",
    "    # Imagens para linhas \n",
    "    X_train = X_train.reshape(X_train.shape[0], -1)\n",
    "    X_valid = X_valid.reshape(X_valid.shape[0], -1)    \n",
    "\n",
    "    return X_train, y_train, X_valid, y_valid\n",
    "\n",
    "\n",
    "# Utiliza a funcao acima pra carregar os dados.\n",
    "X_train, y_train, X_valid, y_valid = get_CIFAR10_data()\n",
    "input_size = 32 * 32 * 3\n",
    "num_classes = 10\n"
   ]
  },
  {
   "cell_type": "code",
   "execution_count": null,
   "metadata": {},
   "outputs": [
    {
     "name": "stdout",
     "output_type": "stream",
     "text": [
      "Epoch 0 -> loss 1.730513 acc 0.410000 val_loss 1.790078 val_acc 0.361900  bestLoss bestAcc\n",
      "Epoch 1 -> loss 1.693921 acc 0.500000 val_loss 1.674025 val_acc 0.417500  bestLoss bestAcc\n",
      "Epoch 2 -> loss 1.748719 acc 0.465000 val_loss 1.630900 val_acc 0.439300  bestLoss bestAcc\n",
      "Epoch 3 -> loss 1.546032 acc 0.530000 val_loss 1.601053 val_acc 0.458600  bestLoss bestAcc\n",
      "Epoch 4 -> loss 1.550843 acc 0.555000 val_loss 1.581151 val_acc 0.461600  bestLoss bestAcc\n",
      "Epoch 5 -> loss 1.426686 acc 0.635000 val_loss 1.577264 val_acc 0.465400  bestLoss bestAcc\n",
      "Epoch 6 -> loss 1.566706 acc 0.560000 val_loss 1.589286 val_acc 0.468100  bestAcc\n",
      "Epoch 7 -> loss 1.662694 acc 0.505000 val_loss 1.576724 val_acc 0.470700  bestLoss bestAcc\n",
      "Epoch 8 -> loss 1.425040 acc 0.585000 val_loss 1.564729 val_acc 0.481900  bestLoss bestAcc\n",
      "Epoch 9 -> loss 1.475057 acc 0.615000 val_loss 1.578614 val_acc 0.480900 \n",
      "Epoch 10 -> loss 1.536492 acc 0.570000 val_loss 1.588268 val_acc 0.484300  bestAcc\n",
      "Epoch 11 -> loss 1.492862 acc 0.600000 val_loss 1.648034 val_acc 0.466200 \n",
      "Epoch 12 -> loss 1.379167 acc 0.640000 val_loss 1.569275 val_acc 0.491700  bestAcc\n",
      "Epoch 13 -> loss 1.466470 acc 0.615000 val_loss 1.569755 val_acc 0.492400  bestAcc\n",
      "Epoch 14 -> loss 1.457763 acc 0.640000 val_loss 1.593485 val_acc 0.482400 \n",
      "Epoch 15 -> loss 1.431346 acc 0.610000 val_loss 1.580245 val_acc 0.496100  bestAcc\n",
      "Epoch 16 -> loss 1.517724 acc 0.600000 val_loss 1.578759 val_acc 0.499000  bestAcc\n",
      "Epoch 17 -> loss 1.396642 acc 0.610000 val_loss 1.608129 val_acc 0.490900 \n",
      "Epoch 18 -> loss 1.452308 acc 0.630000 val_loss 1.599505 val_acc 0.492600 \n",
      "Epoch 19 -> loss 1.375674 acc 0.655000 val_loss 1.612802 val_acc 0.487800 \n",
      "Epoch 20 -> loss 1.432362 acc 0.640000 val_loss 1.578684 val_acc 0.497100 \n",
      "Epoch 21 -> loss 1.278518 acc 0.710000 val_loss 1.576327 val_acc 0.502600  bestAcc\n",
      "Epoch 22 -> loss 1.388308 acc 0.640000 val_loss 1.586633 val_acc 0.500700 \n",
      "Epoch 23 -> loss 1.364012 acc 0.660000 val_loss 1.594765 val_acc 0.498600 \n",
      "Epoch 24 -> loss 1.294343 acc 0.700000 val_loss 1.591928 val_acc 0.503400  bestAcc\n",
      "Epoch 25 -> loss 1.455059 acc 0.660000 val_loss 1.593763 val_acc 0.491800 \n",
      "Epoch 26 -> loss 1.384004 acc 0.645000 val_loss 1.589518 val_acc 0.504100  bestAcc\n",
      "Epoch 27 -> loss 1.476134 acc 0.625000 val_loss 1.610634 val_acc 0.493400 \n",
      "Epoch 28 -> loss 1.367588 acc 0.650000 val_loss 1.586937 val_acc 0.507800  bestAcc\n",
      "Epoch 29 -> loss 1.428522 acc 0.630000 val_loss 1.598261 val_acc 0.500000 \n",
      "Epoch 30 -> loss 1.344597 acc 0.695000 val_loss 1.609506 val_acc 0.496400 \n",
      "Epoch 31 -> loss 1.307852 acc 0.695000 val_loss 1.603661 val_acc 0.496400 \n",
      "Epoch 32 -> loss 1.508282 acc 0.670000 val_loss 1.605089 val_acc 0.496800 \n",
      "Epoch 33 -> loss 1.411010 acc 0.640000 val_loss 1.602703 val_acc 0.503000 \n",
      "Epoch 34 -> loss 1.346475 acc 0.670000 val_loss 1.603435 val_acc 0.502700 \n",
      "Epoch 35 -> loss 1.234622 acc 0.755000 val_loss 1.597743 val_acc 0.506800 \n",
      "Epoch 36 -> loss 1.356321 acc 0.670000 val_loss 1.596779 val_acc 0.505900 \n",
      "Epoch 37 -> loss 1.267615 acc 0.670000 val_loss 1.588654 val_acc 0.508200  bestAcc\n",
      "Epoch 38 -> loss 1.342555 acc 0.695000 val_loss 1.610420 val_acc 0.504100 \n",
      "Epoch 39 -> loss 1.286952 acc 0.710000 val_loss 1.606383 val_acc 0.504500 \n",
      "Epoch 40 -> loss 1.455318 acc 0.630000 val_loss 1.597221 val_acc 0.508100 \n",
      "Epoch 41 -> loss 1.317347 acc 0.675000 val_loss 1.602332 val_acc 0.509000  bestAcc\n",
      "Epoch 42 -> loss 1.225357 acc 0.710000 val_loss 1.606575 val_acc 0.508400 \n",
      "Epoch 43 -> loss 1.206115 acc 0.690000 val_loss 1.602112 val_acc 0.509900  bestAcc\n",
      "Epoch 44 -> loss 1.342392 acc 0.665000 val_loss 1.605975 val_acc 0.511500  bestAcc\n",
      "Epoch 45 -> loss 1.180041 acc 0.690000 val_loss 1.606170 val_acc 0.509500 \n",
      "Epoch 46 -> loss 1.425251 acc 0.615000 val_loss 1.603770 val_acc 0.506800 \n",
      "Epoch 47 -> loss 1.339288 acc 0.620000 val_loss 1.617459 val_acc 0.506400 \n",
      "Epoch 48 -> loss 1.364115 acc 0.690000 val_loss 1.605047 val_acc 0.509900 \n",
      "Epoch 49 -> loss 1.270132 acc 0.650000 val_loss 1.601844 val_acc 0.515900  bestAcc\n",
      "Epoch 50 -> loss 1.424809 acc 0.620000 val_loss 1.611410 val_acc 0.510800 \n",
      "Epoch 51 -> loss 1.301120 acc 0.645000 val_loss 1.607142 val_acc 0.509200 \n",
      "Epoch 52 -> loss 1.278406 acc 0.665000 val_loss 1.608329 val_acc 0.508200 \n",
      "Epoch 53 -> loss 1.171793 acc 0.710000 val_loss 1.607777 val_acc 0.511000 \n",
      "Epoch 54 -> loss 1.276929 acc 0.665000 val_loss 1.609422 val_acc 0.511300 \n",
      "Epoch 55 -> loss 1.204538 acc 0.710000 val_loss 1.608611 val_acc 0.515300 \n",
      "Epoch 56 -> 17000/40000 (42%) loss 1.187346 \r"
     ]
    }
   ],
   "source": [
    "earlyStopping = 10\n",
    "\n",
    "epochs = 200\n",
    "batch_size = 200\n",
    "hidden_size = 50\n",
    "learning_rate=1e-3\n",
    "learning_rate_decay=0.95\n",
    "reg = 0.5\n",
    "\n",
    "net = NeuralNet(input_size, hidden_size, num_classes)\n",
    "\n",
    "stats = net.trainMarcelo(X_train, y_train, X_valid, y_valid,\n",
    "                                    epochs=epochs,\n",
    "                                    batch_size=batch_size,\n",
    "                                    learning_rate=learning_rate, \n",
    "                                    learning_rate_decay=learning_rate_decay,\n",
    "                                    reg=reg, \n",
    "                                    verbose=True, \n",
    "                                    earlyStopping=earlyStopping)"
   ]
  },
  {
   "cell_type": "code",
   "execution_count": null,
   "metadata": {
    "collapsed": true
   },
   "outputs": [],
   "source": []
  },
  {
   "cell_type": "code",
   "execution_count": 22,
   "metadata": {
    "collapsed": true
   },
   "outputs": [],
   "source": []
  },
  {
   "cell_type": "code",
   "execution_count": 10,
   "metadata": {},
   "outputs": [
    {
     "name": "stdout",
     "output_type": "stream",
     "text": [
      "\u0007\n"
     ]
    }
   ],
   "source": []
  },
  {
   "cell_type": "code",
   "execution_count": null,
   "metadata": {
    "collapsed": true
   },
   "outputs": [],
   "source": []
  },
  {
   "cell_type": "code",
   "execution_count": null,
   "metadata": {
    "collapsed": true
   },
   "outputs": [],
   "source": []
  },
  {
   "cell_type": "code",
   "execution_count": 21,
   "metadata": {
    "collapsed": true
   },
   "outputs": [],
   "source": []
  },
  {
   "cell_type": "code",
   "execution_count": null,
   "metadata": {
    "collapsed": true
   },
   "outputs": [],
   "source": []
  }
 ],
 "metadata": {
  "kernelspec": {
   "display_name": "Python 2",
   "language": "python",
   "name": "python2"
  },
  "language_info": {
   "codemirror_mode": {
    "name": "ipython",
    "version": 2
   },
   "file_extension": ".py",
   "mimetype": "text/x-python",
   "name": "python",
   "nbconvert_exporter": "python",
   "pygments_lexer": "ipython2",
   "version": "2.7.13"
  }
 },
 "nbformat": 4,
 "nbformat_minor": 2
}
